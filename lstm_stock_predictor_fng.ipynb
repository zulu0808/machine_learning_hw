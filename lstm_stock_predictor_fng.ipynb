{
 "cells": [
  {
   "cell_type": "markdown",
   "metadata": {},
   "source": [
    "# LSTM Stock Predictor Using Fear and Greed Index\n",
    "\n",
    "In this notebook, you will build and train a custom LSTM RNN that uses a 10 day window of Bitcoin fear and greed index values to predict the 11th day closing price. \n",
    "\n",
    "You will need to:\n",
    "\n",
    "1. Prepare the data for training and testing\n",
    "2. Build and train a custom LSTM RNN\n",
    "3. Evaluate the performance of the model"
   ]
  },
  {
   "cell_type": "markdown",
   "metadata": {},
   "source": [
    "## Data Preparation\n",
    "\n",
    "In this section, you will need to prepare the training and testing data for the model. The model will use a rolling 10 day window to predict the 11th day closing price.\n",
    "\n",
    "You will need to:\n",
    "1. Use the `window_data` function to generate the X and y values for the model.\n",
    "2. Split the data into 70% training and 30% testing\n",
    "3. Apply the MinMaxScaler to the X and y values\n",
    "4. Reshape the X_train and X_test data for the model. Note: The required input format for the LSTM is:\n",
    "\n",
    "```python\n",
    "reshape((X_train.shape[0], X_train.shape[1], 1))\n",
    "```"
   ]
  },
  {
   "cell_type": "code",
   "execution_count": 13,
   "metadata": {},
   "outputs": [],
   "source": [
    "import numpy as np\n",
    "import pandas as pd\n",
    "import hvplot.pandas"
   ]
  },
  {
   "cell_type": "code",
   "execution_count": 14,
   "metadata": {},
   "outputs": [],
   "source": [
    "# Set the random seed for reproducibility\n",
    "# Note: This is for the homework solution, but it is good practice to comment this out and run multiple experiments to evaluate your model\n",
    "from numpy.random import seed\n",
    "seed(1)\n",
    "from tensorflow import random\n",
    "random.set_seed(2)"
   ]
  },
  {
   "cell_type": "code",
   "execution_count": 15,
   "metadata": {},
   "outputs": [
    {
     "output_type": "execute_result",
     "data": {
      "text/plain": [
       "             fng_value\n",
       "date                  \n",
       "2019-07-29          19\n",
       "2019-07-28          16\n",
       "2019-07-27          47\n",
       "2019-07-26          24\n",
       "2019-07-25          42"
      ],
      "text/html": "<div>\n<style scoped>\n    .dataframe tbody tr th:only-of-type {\n        vertical-align: middle;\n    }\n\n    .dataframe tbody tr th {\n        vertical-align: top;\n    }\n\n    .dataframe thead th {\n        text-align: right;\n    }\n</style>\n<table border=\"1\" class=\"dataframe\">\n  <thead>\n    <tr style=\"text-align: right;\">\n      <th></th>\n      <th>fng_value</th>\n    </tr>\n    <tr>\n      <th>date</th>\n      <th></th>\n    </tr>\n  </thead>\n  <tbody>\n    <tr>\n      <th>2019-07-29</th>\n      <td>19</td>\n    </tr>\n    <tr>\n      <th>2019-07-28</th>\n      <td>16</td>\n    </tr>\n    <tr>\n      <th>2019-07-27</th>\n      <td>47</td>\n    </tr>\n    <tr>\n      <th>2019-07-26</th>\n      <td>24</td>\n    </tr>\n    <tr>\n      <th>2019-07-25</th>\n      <td>42</td>\n    </tr>\n  </tbody>\n</table>\n</div>"
     },
     "metadata": {},
     "execution_count": 15
    }
   ],
   "source": [
    "# Load the fear and greed sentiment data for Bitcoin\n",
    "df = pd.read_csv('btc_sentiment.csv', index_col=\"date\", infer_datetime_format=True, parse_dates=True)\n",
    "df = df.drop(columns=\"fng_classification\")\n",
    "df.head()"
   ]
  },
  {
   "cell_type": "code",
   "execution_count": 16,
   "metadata": {},
   "outputs": [
    {
     "output_type": "execute_result",
     "data": {
      "text/plain": [
       "Date\n",
       "2019-07-25    9882.429688\n",
       "2019-07-26    9847.450195\n",
       "2019-07-27    9478.320313\n",
       "2019-07-28    9531.769531\n",
       "2019-07-29    9529.889648\n",
       "Name: Close, dtype: float64"
      ]
     },
     "metadata": {},
     "execution_count": 16
    }
   ],
   "source": [
    "# Load the historical closing prices for Bitcoin\n",
    "df2 = pd.read_csv('btc_historic.csv', index_col=\"Date\", infer_datetime_format=True, parse_dates=True)['Close']\n",
    "df2 = df2.sort_index()\n",
    "df2.tail()"
   ]
  },
  {
   "cell_type": "code",
   "execution_count": 17,
   "metadata": {},
   "outputs": [
    {
     "output_type": "execute_result",
     "data": {
      "text/plain": [
       "             fng_value        Close\n",
       "2019-07-25          42  9882.429688\n",
       "2019-07-26          24  9847.450195\n",
       "2019-07-27          47  9478.320313\n",
       "2019-07-28          16  9531.769531\n",
       "2019-07-29          19  9529.889648"
      ],
      "text/html": "<div>\n<style scoped>\n    .dataframe tbody tr th:only-of-type {\n        vertical-align: middle;\n    }\n\n    .dataframe tbody tr th {\n        vertical-align: top;\n    }\n\n    .dataframe thead th {\n        text-align: right;\n    }\n</style>\n<table border=\"1\" class=\"dataframe\">\n  <thead>\n    <tr style=\"text-align: right;\">\n      <th></th>\n      <th>fng_value</th>\n      <th>Close</th>\n    </tr>\n  </thead>\n  <tbody>\n    <tr>\n      <th>2019-07-25</th>\n      <td>42</td>\n      <td>9882.429688</td>\n    </tr>\n    <tr>\n      <th>2019-07-26</th>\n      <td>24</td>\n      <td>9847.450195</td>\n    </tr>\n    <tr>\n      <th>2019-07-27</th>\n      <td>47</td>\n      <td>9478.320313</td>\n    </tr>\n    <tr>\n      <th>2019-07-28</th>\n      <td>16</td>\n      <td>9531.769531</td>\n    </tr>\n    <tr>\n      <th>2019-07-29</th>\n      <td>19</td>\n      <td>9529.889648</td>\n    </tr>\n  </tbody>\n</table>\n</div>"
     },
     "metadata": {},
     "execution_count": 17
    }
   ],
   "source": [
    "# Join the data into a single DataFrame\n",
    "df = df.join(df2, how=\"inner\")\n",
    "df.tail()"
   ]
  },
  {
   "cell_type": "code",
   "execution_count": 18,
   "metadata": {},
   "outputs": [
    {
     "output_type": "execute_result",
     "data": {
      "text/plain": [
       "             fng_value        Close\n",
       "2018-02-01          30  9114.719727\n",
       "2018-02-02          15  8870.820313\n",
       "2018-02-03          40  9251.269531\n",
       "2018-02-04          24  8218.049805\n",
       "2018-02-05          11  6937.080078"
      ],
      "text/html": "<div>\n<style scoped>\n    .dataframe tbody tr th:only-of-type {\n        vertical-align: middle;\n    }\n\n    .dataframe tbody tr th {\n        vertical-align: top;\n    }\n\n    .dataframe thead th {\n        text-align: right;\n    }\n</style>\n<table border=\"1\" class=\"dataframe\">\n  <thead>\n    <tr style=\"text-align: right;\">\n      <th></th>\n      <th>fng_value</th>\n      <th>Close</th>\n    </tr>\n  </thead>\n  <tbody>\n    <tr>\n      <th>2018-02-01</th>\n      <td>30</td>\n      <td>9114.719727</td>\n    </tr>\n    <tr>\n      <th>2018-02-02</th>\n      <td>15</td>\n      <td>8870.820313</td>\n    </tr>\n    <tr>\n      <th>2018-02-03</th>\n      <td>40</td>\n      <td>9251.269531</td>\n    </tr>\n    <tr>\n      <th>2018-02-04</th>\n      <td>24</td>\n      <td>8218.049805</td>\n    </tr>\n    <tr>\n      <th>2018-02-05</th>\n      <td>11</td>\n      <td>6937.080078</td>\n    </tr>\n  </tbody>\n</table>\n</div>"
     },
     "metadata": {},
     "execution_count": 18
    }
   ],
   "source": [
    "df.head()"
   ]
  },
  {
   "cell_type": "code",
   "execution_count": 19,
   "metadata": {},
   "outputs": [],
   "source": [
    "# This function accepts the column number for the features (X) and the target (y)\n",
    "# It chunks the data up with a rolling window of Xt-n to predict Xt\n",
    "# It returns a numpy array of X any y\n",
    "def window_data(df, window, feature_col_number, target_col_number):\n",
    "    X = []\n",
    "    y = []\n",
    "    for i in range(len(df) - window - 1):\n",
    "        features = df.iloc[i:(i + window), feature_col_number]\n",
    "        target = df.iloc[(i + window), target_col_number]\n",
    "        X.append(features)\n",
    "        y.append(target)\n",
    "    return np.array(X), np.array(y).reshape(-1, 1)"
   ]
  },
  {
   "cell_type": "code",
   "execution_count": 23,
   "metadata": {},
   "outputs": [],
   "source": [
    "# Predict Closing Prices using a 10 day window of previous fng values\n",
    "# Then, experiment with window sizes anywhere from 1 to 10 and see how the model performance changes\n",
    "window_size = 10\n",
    "\n",
    "# Column index 0 is the 'fng_value' column\n",
    "# Column index 1 is the `Close` column\n",
    "feature_column = 0\n",
    "target_column = 1\n",
    "X, y = window_data(df, window_size, feature_column, target_column)"
   ]
  },
  {
   "cell_type": "code",
   "execution_count": 24,
   "metadata": {},
   "outputs": [],
   "source": [
    "# Use 70% of the data for training and the remaineder for testing\n",
    "# YOUR CODE HERE!\n",
    "split = int(0.7 * len(X))\n",
    "X_train = X[: split - 1]\n",
    "X_test = X[split:]\n",
    "y_train = y[: split -1]\n",
    "y_test = y[split:]"
   ]
  },
  {
   "cell_type": "code",
   "execution_count": 25,
   "metadata": {},
   "outputs": [],
   "source": [
    "from sklearn.preprocessing import MinMaxScaler\n",
    "# Use the MinMaxScaler to scale data between 0 and 1.\n",
    "# YOUR CODE HERE!\n",
    "X_train_scaler = MinMaxScaler()\n",
    "X_train_scaler.fit(X_train)\n",
    "X_train = X_train_scaler.transform(X_train)\n",
    "X_test_scaler = MinMaxScaler()\n",
    "X_test_scaler.fit(X_test)\n",
    "X_test = X_test_scaler.transform(X_test)\n",
    "\n",
    "y_train_scaler = MinMaxScaler()\n",
    "y_train_scaler.fit(y_train)\n",
    "y_train = y_train_scaler.transform(y_train)\n",
    "y_test_scaler = MinMaxScaler()\n",
    "y_test_scaler.fit(y_test)\n",
    "y_test = y_test_scaler.transform(y_test)\n"
   ]
  },
  {
   "cell_type": "code",
   "execution_count": 26,
   "metadata": {},
   "outputs": [
    {
     "output_type": "stream",
     "name": "stdout",
     "text": [
      "X_train sample values:\n[[[0.33333333]\n  [0.10606061]\n  [0.48484848]\n  [0.24242424]\n  [0.04545455]\n  [0.        ]\n  [0.41538462]\n  [0.32307692]\n  [0.53846154]\n  [0.69230769]]\n\n [[0.10606061]\n  [0.48484848]\n  [0.24242424]\n  [0.04545455]\n  [0.        ]\n  [0.42424242]\n  [0.32307692]\n  [0.53846154]\n  [0.69230769]\n  [0.33846154]]\n\n [[0.48484848]\n  [0.24242424]\n  [0.04545455]\n  [0.        ]\n  [0.42424242]\n  [0.33333333]\n  [0.53846154]\n  [0.69230769]\n  [0.33846154]\n  [0.50769231]]\n\n [[0.24242424]\n  [0.04545455]\n  [0.        ]\n  [0.42424242]\n  [0.33333333]\n  [0.54545455]\n  [0.69230769]\n  [0.33846154]\n  [0.50769231]\n  [0.4       ]]\n\n [[0.04545455]\n  [0.        ]\n  [0.42424242]\n  [0.33333333]\n  [0.54545455]\n  [0.6969697 ]\n  [0.33846154]\n  [0.50769231]\n  [0.4       ]\n  [0.70769231]]\n\n [[0.        ]\n  [0.42424242]\n  [0.33333333]\n  [0.54545455]\n  [0.6969697 ]\n  [0.34848485]\n  [0.50769231]\n  [0.4       ]\n  [0.70769231]\n  [0.95384615]]\n\n [[0.42424242]\n  [0.33333333]\n  [0.54545455]\n  [0.6969697 ]\n  [0.34848485]\n  [0.51515152]\n  [0.4       ]\n  [0.70769231]\n  [0.95384615]\n  [0.89230769]]\n\n [[0.33333333]\n  [0.54545455]\n  [0.6969697 ]\n  [0.34848485]\n  [0.51515152]\n  [0.40909091]\n  [0.70769231]\n  [0.95384615]\n  [0.89230769]\n  [1.        ]]\n\n [[0.54545455]\n  [0.6969697 ]\n  [0.34848485]\n  [0.51515152]\n  [0.40909091]\n  [0.71212121]\n  [0.95384615]\n  [0.89230769]\n  [1.        ]\n  [0.83076923]]\n\n [[0.6969697 ]\n  [0.34848485]\n  [0.51515152]\n  [0.40909091]\n  [0.71212121]\n  [0.95454545]\n  [0.89230769]\n  [1.        ]\n  [0.83076923]\n  [0.89230769]]] \n\nX_test sample values:\n[[[0.30379747]\n  [0.37974684]\n  [0.27848101]\n  [0.40506329]\n  [0.40506329]\n  [0.34177215]\n  [0.34177215]\n  [0.3164557 ]\n  [0.27848101]\n  [0.59493671]]\n\n [[0.37974684]\n  [0.27848101]\n  [0.40506329]\n  [0.40506329]\n  [0.34177215]\n  [0.34177215]\n  [0.3164557 ]\n  [0.27848101]\n  [0.59493671]\n  [0.62025316]]\n\n [[0.27848101]\n  [0.40506329]\n  [0.40506329]\n  [0.34177215]\n  [0.34177215]\n  [0.3164557 ]\n  [0.27848101]\n  [0.59493671]\n  [0.62025316]\n  [0.5443038 ]]\n\n [[0.40506329]\n  [0.40506329]\n  [0.34177215]\n  [0.34177215]\n  [0.3164557 ]\n  [0.27848101]\n  [0.59493671]\n  [0.62025316]\n  [0.5443038 ]\n  [0.5443038 ]]\n\n [[0.40506329]\n  [0.34177215]\n  [0.34177215]\n  [0.3164557 ]\n  [0.27848101]\n  [0.59493671]\n  [0.62025316]\n  [0.5443038 ]\n  [0.5443038 ]\n  [0.56962025]]\n\n [[0.34177215]\n  [0.34177215]\n  [0.3164557 ]\n  [0.27848101]\n  [0.59493671]\n  [0.62025316]\n  [0.5443038 ]\n  [0.5443038 ]\n  [0.56962025]\n  [0.59493671]]\n\n [[0.34177215]\n  [0.3164557 ]\n  [0.27848101]\n  [0.59493671]\n  [0.62025316]\n  [0.5443038 ]\n  [0.5443038 ]\n  [0.56962025]\n  [0.59493671]\n  [0.67088608]]\n\n [[0.3164557 ]\n  [0.27848101]\n  [0.59493671]\n  [0.62025316]\n  [0.5443038 ]\n  [0.5443038 ]\n  [0.56962025]\n  [0.59493671]\n  [0.67088608]\n  [0.39240506]]\n\n [[0.27848101]\n  [0.59493671]\n  [0.62025316]\n  [0.5443038 ]\n  [0.5443038 ]\n  [0.56962025]\n  [0.59493671]\n  [0.67088608]\n  [0.39240506]\n  [0.30379747]]\n\n [[0.59493671]\n  [0.62025316]\n  [0.5443038 ]\n  [0.5443038 ]\n  [0.56962025]\n  [0.59493671]\n  [0.67088608]\n  [0.39240506]\n  [0.30379747]\n  [0.29113924]]]\n"
     ]
    }
   ],
   "source": [
    "# Reshape the features for the model\n",
    "# YOUR CODE HERE!\n",
    "X_train = X_train.reshape((X_train.shape[0], X_train.shape[1], 1))\n",
    "X_test = X_test.reshape((X_test.shape[0], X_test.shape[1], 1))\n",
    "print (f\"X_train sample values:\\n{X_train[:10]} \\n\")\n",
    "print (f\"X_test sample values:\\n{X_test[:10]}\")"
   ]
  },
  {
   "cell_type": "markdown",
   "metadata": {},
   "source": [
    "---"
   ]
  },
  {
   "cell_type": "markdown",
   "metadata": {},
   "source": [
    "## Build and Train the LSTM RNN\n",
    "\n",
    "In this section, you will design a custom LSTM RNN and fit (train) it using the training data.\n",
    "\n",
    "You will need to:\n",
    "1. Define the model architecture\n",
    "2. Compile the model\n",
    "3. Fit the model to the training data\n",
    "\n",
    "### Hints:\n",
    "You will want to use the same model architecture and random seed for both notebooks. This is necessary to accurately compare the performance of the FNG model vs the closing price model. "
   ]
  },
  {
   "cell_type": "code",
   "execution_count": 27,
   "metadata": {},
   "outputs": [],
   "source": [
    "from tensorflow.keras.models import Sequential\n",
    "from tensorflow.keras.layers import LSTM, Dense, Dropout"
   ]
  },
  {
   "cell_type": "code",
   "execution_count": 13,
   "metadata": {},
   "outputs": [],
   "source": [
    "# Build the LSTM model. \n",
    "# The return sequences need to be set to True if you are adding additional LSTM layers, but \n",
    "# You don't have to do this for the final layer. \n",
    "# Note: The dropouts help prevent overfitting\n",
    "# Note: The input shape is the number of time steps and the number of indicators\n",
    "# Note: Batching inputs has a different input shape of Samples/TimeSteps/Features\n",
    "\n",
    "# YOUR CODE HERE!"
   ]
  },
  {
   "cell_type": "code",
   "execution_count": 28,
   "metadata": {},
   "outputs": [],
   "source": [
    "# Compile the model\n",
    "# YOUR CODE HERE!\n",
    "# Define the LSTM RNN model.\n",
    "model = Sequential()\n",
    "\n",
    "number_units = 30\n",
    "dropout_fraction = 0.2\n",
    "\n",
    "# Layer 1\n",
    "model.add(LSTM(\n",
    "    units=number_units,\n",
    "    return_sequences=True,\n",
    "    input_shape=(X_train.shape[1], 1))\n",
    "    )\n",
    "model.add(Dropout(dropout_fraction))\n",
    "\n",
    "# Layer 2\n",
    "model.add(LSTM(units=number_units, return_sequences=True))\n",
    "model.add(Dropout(dropout_fraction))\n",
    "\n",
    "# Layer 3\n",
    "model.add(LSTM(units=number_units))\n",
    "model.add(Dropout(dropout_fraction))\n",
    "\n",
    "# Output layer\n",
    "model.add(Dense(1))"
   ]
  },
  {
   "cell_type": "code",
   "execution_count": 29,
   "metadata": {},
   "outputs": [
    {
     "output_type": "stream",
     "name": "stdout",
     "text": [
      "Model: \"sequential\"\n_________________________________________________________________\nLayer (type)                 Output Shape              Param #   \n=================================================================\nlstm (LSTM)                  (None, 10, 30)            3840      \n_________________________________________________________________\ndropout (Dropout)            (None, 10, 30)            0         \n_________________________________________________________________\nlstm_1 (LSTM)                (None, 10, 30)            7320      \n_________________________________________________________________\ndropout_1 (Dropout)          (None, 10, 30)            0         \n_________________________________________________________________\nlstm_2 (LSTM)                (None, 30)                7320      \n_________________________________________________________________\ndropout_2 (Dropout)          (None, 30)                0         \n_________________________________________________________________\ndense (Dense)                (None, 1)                 31        \n=================================================================\nTotal params: 18,511\nTrainable params: 18,511\nNon-trainable params: 0\n_________________________________________________________________\n"
     ]
    }
   ],
   "source": [
    "# Summarize the model\n",
    "# YOUR CODE HERE!\n",
    "model.summary()"
   ]
  },
  {
   "cell_type": "code",
   "execution_count": 31,
   "metadata": {},
   "outputs": [],
   "source": [
    "# Compile the model\n",
    "model.compile(\n",
    "    loss=\"binary_crossentropy\",\n",
    "    optimizer=\"adam\"\n",
    ")"
   ]
  },
  {
   "cell_type": "code",
   "execution_count": 38,
   "metadata": {},
   "outputs": [
    {
     "output_type": "stream",
     "name": "stdout",
     "text": [
      "Epoch 1/10\n",
      "1/1 [==============================] - 0s 37ms/step - loss: 0.8554\n",
      "Epoch 2/10\n",
      "1/1 [==============================] - 0s 43ms/step - loss: 0.8393\n",
      "Epoch 3/10\n",
      "1/1 [==============================] - 0s 44ms/step - loss: 0.8112\n",
      "Epoch 4/10\n",
      "1/1 [==============================] - 0s 44ms/step - loss: 0.7817\n",
      "Epoch 5/10\n",
      "1/1 [==============================] - 0s 34ms/step - loss: 0.7586\n",
      "Epoch 6/10\n",
      "1/1 [==============================] - 0s 32ms/step - loss: 0.7419\n",
      "Epoch 7/10\n",
      "1/1 [==============================] - 0s 35ms/step - loss: 0.7296\n",
      "Epoch 8/10\n",
      "1/1 [==============================] - 0s 31ms/step - loss: 0.7074\n",
      "Epoch 9/10\n",
      "1/1 [==============================] - 0s 33ms/step - loss: 0.7038\n",
      "Epoch 10/10\n",
      "1/1 [==============================] - 0s 31ms/step - loss: 0.6825\n"
     ]
    },
    {
     "output_type": "execute_result",
     "data": {
      "text/plain": [
       "<tensorflow.python.keras.callbacks.History at 0x2651b4e8460>"
      ]
     },
     "metadata": {},
     "execution_count": 38
    }
   ],
   "source": [
    "# Train the model\n",
    "# Use at least 10 epochs\n",
    "# Do not shuffle the data\n",
    "# Experiement with the batch size, but a smaller batch size is recommended\n",
    "# YOUR CODE HERE!\n",
    "batch_size = 2000\n",
    "model.fit(\n",
    "    X_train,\n",
    "    y_train,\n",
    "    epochs=10,\n",
    "    batch_size=batch_size,\n",
    "    verbose=1,\n",
    ")"
   ]
  },
  {
   "cell_type": "markdown",
   "metadata": {},
   "source": [
    "---"
   ]
  },
  {
   "cell_type": "markdown",
   "metadata": {},
   "source": [
    "## Model Performance\n",
    "\n",
    "In this section, you will evaluate the model using the test data. \n",
    "\n",
    "You will need to:\n",
    "1. Evaluate the model using the `X_test` and `y_test` data.\n",
    "2. Use the X_test data to make predictions\n",
    "3. Create a DataFrame of Real (y_test) vs predicted values. \n",
    "4. Plot the Real vs predicted values as a line chart\n",
    "\n",
    "### Hints\n",
    "Remember to apply the `inverse_transform` function to the predicted and y_test values to recover the actual closing prices."
   ]
  },
  {
   "cell_type": "code",
   "execution_count": 39,
   "metadata": {},
   "outputs": [
    {
     "output_type": "stream",
     "name": "stdout",
     "text": [
      "5/5 [==============================] - 0s 3ms/step - loss: 0.6181\n"
     ]
    },
    {
     "output_type": "execute_result",
     "data": {
      "text/plain": [
       "0.6180632710456848"
      ]
     },
     "metadata": {},
     "execution_count": 39
    }
   ],
   "source": [
    "# Evaluate the model\n",
    "# YOUR CODE HERE!\n",
    "model.evaluate(X_test, y_test)"
   ]
  },
  {
   "cell_type": "code",
   "execution_count": 34,
   "metadata": {},
   "outputs": [
    {
     "output_type": "execute_result",
     "data": {
      "text/plain": [
       "array([[0.14241084],\n",
       "       [0.14509434],\n",
       "       [0.14682004],\n",
       "       [0.15223932],\n",
       "       [0.15508884],\n",
       "       [0.15877263],\n",
       "       [0.16505353],\n",
       "       [0.17134754],\n",
       "       [0.17747715],\n",
       "       [0.18323341],\n",
       "       [0.1787752 ],\n",
       "       [0.17246251],\n",
       "       [0.16730879],\n",
       "       [0.16155715],\n",
       "       [0.15454946],\n",
       "       [0.14638728],\n",
       "       [0.1361803 ],\n",
       "       [0.13418718],\n",
       "       [0.13542292],\n",
       "       [0.13792248],\n",
       "       [0.14130841],\n",
       "       [0.14449598],\n",
       "       [0.14872243],\n",
       "       [0.152401  ],\n",
       "       [0.15908186],\n",
       "       [0.1661527 ],\n",
       "       [0.17069508],\n",
       "       [0.1704162 ],\n",
       "       [0.17091203],\n",
       "       [0.17112456],\n",
       "       [0.17135587],\n",
       "       [0.171481  ],\n",
       "       [0.1717645 ],\n",
       "       [0.17258905],\n",
       "       [0.17250511],\n",
       "       [0.1717349 ],\n",
       "       [0.17050259],\n",
       "       [0.16713734],\n",
       "       [0.1640364 ],\n",
       "       [0.16077918],\n",
       "       [0.1581597 ],\n",
       "       [0.15370178],\n",
       "       [0.15223992],\n",
       "       [0.15375042],\n",
       "       [0.15846282],\n",
       "       [0.16332662],\n",
       "       [0.1696815 ],\n",
       "       [0.17604169],\n",
       "       [0.1810832 ],\n",
       "       [0.18605304],\n",
       "       [0.18872052],\n",
       "       [0.19170055],\n",
       "       [0.19255492],\n",
       "       [0.19327226],\n",
       "       [0.18962461],\n",
       "       [0.18882613],\n",
       "       [0.18829285],\n",
       "       [0.18511498],\n",
       "       [0.1804266 ],\n",
       "       [0.17742163],\n",
       "       [0.17515582],\n",
       "       [0.1740382 ],\n",
       "       [0.1723601 ],\n",
       "       [0.17892317],\n",
       "       [0.17891923],\n",
       "       [0.18310943],\n",
       "       [0.18420093],\n",
       "       [0.18795054],\n",
       "       [0.18659376],\n",
       "       [0.18279102],\n",
       "       [0.17874427],\n",
       "       [0.1732585 ],\n",
       "       [0.1672751 ],\n",
       "       [0.16154887],\n",
       "       [0.15411064],\n",
       "       [0.14903922],\n",
       "       [0.14793225],\n",
       "       [0.15369704],\n",
       "       [0.16012245],\n",
       "       [0.16792704],\n",
       "       [0.17564584],\n",
       "       [0.18390709],\n",
       "       [0.18968457],\n",
       "       [0.19642086],\n",
       "       [0.19928002],\n",
       "       [0.20179315],\n",
       "       [0.2045644 ],\n",
       "       [0.21116178],\n",
       "       [0.21335495],\n",
       "       [0.21718991],\n",
       "       [0.21842626],\n",
       "       [0.21863607],\n",
       "       [0.21676043],\n",
       "       [0.2149692 ],\n",
       "       [0.21180159],\n",
       "       [0.20829421],\n",
       "       [0.20500046],\n",
       "       [0.20235224],\n",
       "       [0.20323935],\n",
       "       [0.20352872],\n",
       "       [0.20295441],\n",
       "       [0.2016557 ],\n",
       "       [0.20205149],\n",
       "       [0.2018025 ],\n",
       "       [0.20256226],\n",
       "       [0.20333602],\n",
       "       [0.20127214],\n",
       "       [0.1978795 ],\n",
       "       [0.19127654],\n",
       "       [0.18210569],\n",
       "       [0.17221561],\n",
       "       [0.16201247],\n",
       "       [0.15638849],\n",
       "       [0.15129925],\n",
       "       [0.14702724],\n",
       "       [0.14312506],\n",
       "       [0.14877468],\n",
       "       [0.16084269],\n",
       "       [0.17188534],\n",
       "       [0.18669654],\n",
       "       [0.1906511 ],\n",
       "       [0.1958494 ],\n",
       "       [0.20745686],\n",
       "       [0.21443665],\n",
       "       [0.22219054],\n",
       "       [0.2291431 ],\n",
       "       [0.23468104],\n",
       "       [0.23749441],\n",
       "       [0.23899636],\n",
       "       [0.23966597],\n",
       "       [0.2402739 ],\n",
       "       [0.24056733],\n",
       "       [0.24058942],\n",
       "       [0.23860836],\n",
       "       [0.23581883],\n",
       "       [0.2320519 ],\n",
       "       [0.22936685],\n",
       "       [0.2238517 ],\n",
       "       [0.21543919],\n",
       "       [0.2080666 ],\n",
       "       [0.21125129],\n",
       "       [0.21064322],\n",
       "       [0.20937033],\n",
       "       [0.2126934 ],\n",
       "       [0.2151547 ],\n",
       "       [0.21081083],\n",
       "       [0.2066425 ],\n",
       "       [0.2032888 ],\n",
       "       [0.19578928],\n",
       "       [0.18735042],\n",
       "       [0.17467915],\n",
       "       [0.1577723 ],\n",
       "       [0.14103897],\n",
       "       [0.13185667],\n",
       "       [0.13288082],\n",
       "       [0.12345544],\n",
       "       [0.11540517],\n",
       "       [0.12244655],\n",
       "       [0.12293112],\n",
       "       [0.12845299]], dtype=float32)"
      ]
     },
     "metadata": {},
     "execution_count": 34
    }
   ],
   "source": [
    "# Make some predictions\n",
    "# YOUR CODE HERE!\n",
    "predicted = model.predict(X_test)\n",
    "predicted"
   ]
  },
  {
   "cell_type": "code",
   "execution_count": 40,
   "metadata": {},
   "outputs": [],
   "source": [
    "# Recover the original prices instead of the scaled version\n",
    "predicted_prices = y_test_scaler.inverse_transform(predicted)\n",
    "real_prices = y_test_scaler.inverse_transform(y_test.reshape(-1, 1))"
   ]
  },
  {
   "cell_type": "code",
   "execution_count": 41,
   "metadata": {},
   "outputs": [
    {
     "output_type": "execute_result",
     "data": {
      "text/plain": [
       "                   Real    Predicted\n",
       "2019-02-20  3924.239990  5038.896484\n",
       "2019-02-21  3974.050049  5063.536133\n",
       "2019-02-22  3937.040039  5079.381836\n",
       "2019-02-23  3983.530029  5129.141602\n",
       "2019-02-24  4149.089844  5155.305664"
      ],
      "text/html": "<div>\n<style scoped>\n    .dataframe tbody tr th:only-of-type {\n        vertical-align: middle;\n    }\n\n    .dataframe tbody tr th {\n        vertical-align: top;\n    }\n\n    .dataframe thead th {\n        text-align: right;\n    }\n</style>\n<table border=\"1\" class=\"dataframe\">\n  <thead>\n    <tr style=\"text-align: right;\">\n      <th></th>\n      <th>Real</th>\n      <th>Predicted</th>\n    </tr>\n  </thead>\n  <tbody>\n    <tr>\n      <th>2019-02-20</th>\n      <td>3924.239990</td>\n      <td>5038.896484</td>\n    </tr>\n    <tr>\n      <th>2019-02-21</th>\n      <td>3974.050049</td>\n      <td>5063.536133</td>\n    </tr>\n    <tr>\n      <th>2019-02-22</th>\n      <td>3937.040039</td>\n      <td>5079.381836</td>\n    </tr>\n    <tr>\n      <th>2019-02-23</th>\n      <td>3983.530029</td>\n      <td>5129.141602</td>\n    </tr>\n    <tr>\n      <th>2019-02-24</th>\n      <td>4149.089844</td>\n      <td>5155.305664</td>\n    </tr>\n  </tbody>\n</table>\n</div>"
     },
     "metadata": {},
     "execution_count": 41
    }
   ],
   "source": [
    "# Create a DataFrame of Real and Predicted values\n",
    "stocks = pd.DataFrame({\n",
    "    \"Real\": real_prices.ravel(),\n",
    "    \"Predicted\": predicted_prices.ravel()\n",
    "}, index = df.index[-len(real_prices): ]) \n",
    "stocks.head()"
   ]
  },
  {
   "cell_type": "code",
   "execution_count": 42,
   "metadata": {},
   "outputs": [
    {
     "output_type": "execute_result",
     "data": {
      "text/plain": [
       "<AxesSubplot:>"
      ]
     },
     "metadata": {},
     "execution_count": 42
    },
    {
     "output_type": "display_data",
     "data": {
      "text/plain": "<Figure size 432x288 with 1 Axes>",
      "image/svg+xml": "<?xml version=\"1.0\" encoding=\"utf-8\" standalone=\"no\"?>\r\n<!DOCTYPE svg PUBLIC \"-//W3C//DTD SVG 1.1//EN\"\r\n  \"http://www.w3.org/Graphics/SVG/1.1/DTD/svg11.dtd\">\r\n<!-- Created with matplotlib (https://matplotlib.org/) -->\r\n<svg height=\"259.715937pt\" version=\"1.1\" viewBox=\"0 0 388.0125 259.715937\" width=\"388.0125pt\" xmlns=\"http://www.w3.org/2000/svg\" xmlns:xlink=\"http://www.w3.org/1999/xlink\">\r\n <metadata>\r\n  <rdf:RDF xmlns:cc=\"http://creativecommons.org/ns#\" xmlns:dc=\"http://purl.org/dc/elements/1.1/\" xmlns:rdf=\"http://www.w3.org/1999/02/22-rdf-syntax-ns#\">\r\n   <cc:Work>\r\n    <dc:type rdf:resource=\"http://purl.org/dc/dcmitype/StillImage\"/>\r\n    <dc:date>2021-03-12T11:26:40.890962</dc:date>\r\n    <dc:format>image/svg+xml</dc:format>\r\n    <dc:creator>\r\n     <cc:Agent>\r\n      <dc:title>Matplotlib v3.3.2, https://matplotlib.org/</dc:title>\r\n     </cc:Agent>\r\n    </dc:creator>\r\n   </cc:Work>\r\n  </rdf:RDF>\r\n </metadata>\r\n <defs>\r\n  <style type=\"text/css\">*{stroke-linecap:butt;stroke-linejoin:round;}</style>\r\n </defs>\r\n <g id=\"figure_1\">\r\n  <g id=\"patch_1\">\r\n   <path d=\"M 0 259.715937 \r\nL 388.0125 259.715937 \r\nL 388.0125 0 \r\nL 0 0 \r\nz\r\n\" style=\"fill:none;\"/>\r\n  </g>\r\n  <g id=\"axes_1\">\r\n   <g id=\"patch_2\">\r\n    <path d=\"M 46.0125 224.64 \r\nL 380.8125 224.64 \r\nL 380.8125 7.2 \r\nL 46.0125 7.2 \r\nz\r\n\" style=\"fill:#ffffff;\"/>\r\n   </g>\r\n   <g id=\"matplotlib.axis_1\">\r\n    <g id=\"xtick_1\">\r\n     <g id=\"line2d_1\">\r\n      <defs>\r\n       <path d=\"M 0 0 \r\nL 0 3.5 \r\n\" id=\"m268a01acfc\" style=\"stroke:#000000;stroke-width:0.8;\"/>\r\n      </defs>\r\n      <g>\r\n       <use style=\"stroke:#000000;stroke-width:0.8;\" x=\"46.0125\" xlink:href=\"#m268a01acfc\" y=\"224.64\"/>\r\n      </g>\r\n     </g>\r\n    </g>\r\n    <g id=\"xtick_2\">\r\n     <g id=\"line2d_2\">\r\n      <g>\r\n       <use style=\"stroke:#000000;stroke-width:0.8;\" x=\"64.963443\" xlink:href=\"#m268a01acfc\" y=\"224.64\"/>\r\n      </g>\r\n     </g>\r\n     <g id=\"text_1\">\r\n      <!-- Mar -->\r\n      <g transform=\"translate(55.52985 239.238438)scale(0.1 -0.1)\">\r\n       <defs>\r\n        <path d=\"M 9.8125 72.90625 \r\nL 24.515625 72.90625 \r\nL 43.109375 23.296875 \r\nL 61.8125 72.90625 \r\nL 76.515625 72.90625 \r\nL 76.515625 0 \r\nL 66.890625 0 \r\nL 66.890625 64.015625 \r\nL 48.09375 14.015625 \r\nL 38.1875 14.015625 \r\nL 19.390625 64.015625 \r\nL 19.390625 0 \r\nL 9.8125 0 \r\nz\r\n\" id=\"DejaVuSans-77\"/>\r\n        <path d=\"M 34.28125 27.484375 \r\nQ 23.390625 27.484375 19.1875 25 \r\nQ 14.984375 22.515625 14.984375 16.5 \r\nQ 14.984375 11.71875 18.140625 8.90625 \r\nQ 21.296875 6.109375 26.703125 6.109375 \r\nQ 34.1875 6.109375 38.703125 11.40625 \r\nQ 43.21875 16.703125 43.21875 25.484375 \r\nL 43.21875 27.484375 \r\nz\r\nM 52.203125 31.203125 \r\nL 52.203125 0 \r\nL 43.21875 0 \r\nL 43.21875 8.296875 \r\nQ 40.140625 3.328125 35.546875 0.953125 \r\nQ 30.953125 -1.421875 24.3125 -1.421875 \r\nQ 15.921875 -1.421875 10.953125 3.296875 \r\nQ 6 8.015625 6 15.921875 \r\nQ 6 25.140625 12.171875 29.828125 \r\nQ 18.359375 34.515625 30.609375 34.515625 \r\nL 43.21875 34.515625 \r\nL 43.21875 35.40625 \r\nQ 43.21875 41.609375 39.140625 45 \r\nQ 35.0625 48.390625 27.6875 48.390625 \r\nQ 23 48.390625 18.546875 47.265625 \r\nQ 14.109375 46.140625 10.015625 43.890625 \r\nL 10.015625 52.203125 \r\nQ 14.9375 54.109375 19.578125 55.046875 \r\nQ 24.21875 56 28.609375 56 \r\nQ 40.484375 56 46.34375 49.84375 \r\nQ 52.203125 43.703125 52.203125 31.203125 \r\nz\r\n\" id=\"DejaVuSans-97\"/>\r\n        <path d=\"M 41.109375 46.296875 \r\nQ 39.59375 47.171875 37.8125 47.578125 \r\nQ 36.03125 48 33.890625 48 \r\nQ 26.265625 48 22.1875 43.046875 \r\nQ 18.109375 38.09375 18.109375 28.8125 \r\nL 18.109375 0 \r\nL 9.078125 0 \r\nL 9.078125 54.6875 \r\nL 18.109375 54.6875 \r\nL 18.109375 46.1875 \r\nQ 20.953125 51.171875 25.484375 53.578125 \r\nQ 30.03125 56 36.53125 56 \r\nQ 37.453125 56 38.578125 55.875 \r\nQ 39.703125 55.765625 41.0625 55.515625 \r\nz\r\n\" id=\"DejaVuSans-114\"/>\r\n       </defs>\r\n       <use xlink:href=\"#DejaVuSans-77\"/>\r\n       <use x=\"86.279297\" xlink:href=\"#DejaVuSans-97\"/>\r\n       <use x=\"147.558594\" xlink:href=\"#DejaVuSans-114\"/>\r\n      </g>\r\n      <!-- 2019 -->\r\n      <g transform=\"translate(52.238443 250.43625)scale(0.1 -0.1)\">\r\n       <defs>\r\n        <path d=\"M 19.1875 8.296875 \r\nL 53.609375 8.296875 \r\nL 53.609375 0 \r\nL 7.328125 0 \r\nL 7.328125 8.296875 \r\nQ 12.9375 14.109375 22.625 23.890625 \r\nQ 32.328125 33.6875 34.8125 36.53125 \r\nQ 39.546875 41.84375 41.421875 45.53125 \r\nQ 43.3125 49.21875 43.3125 52.78125 \r\nQ 43.3125 58.59375 39.234375 62.25 \r\nQ 35.15625 65.921875 28.609375 65.921875 \r\nQ 23.96875 65.921875 18.8125 64.3125 \r\nQ 13.671875 62.703125 7.8125 59.421875 \r\nL 7.8125 69.390625 \r\nQ 13.765625 71.78125 18.9375 73 \r\nQ 24.125 74.21875 28.421875 74.21875 \r\nQ 39.75 74.21875 46.484375 68.546875 \r\nQ 53.21875 62.890625 53.21875 53.421875 \r\nQ 53.21875 48.921875 51.53125 44.890625 \r\nQ 49.859375 40.875 45.40625 35.40625 \r\nQ 44.1875 33.984375 37.640625 27.21875 \r\nQ 31.109375 20.453125 19.1875 8.296875 \r\nz\r\n\" id=\"DejaVuSans-50\"/>\r\n        <path d=\"M 31.78125 66.40625 \r\nQ 24.171875 66.40625 20.328125 58.90625 \r\nQ 16.5 51.421875 16.5 36.375 \r\nQ 16.5 21.390625 20.328125 13.890625 \r\nQ 24.171875 6.390625 31.78125 6.390625 \r\nQ 39.453125 6.390625 43.28125 13.890625 \r\nQ 47.125 21.390625 47.125 36.375 \r\nQ 47.125 51.421875 43.28125 58.90625 \r\nQ 39.453125 66.40625 31.78125 66.40625 \r\nz\r\nM 31.78125 74.21875 \r\nQ 44.046875 74.21875 50.515625 64.515625 \r\nQ 56.984375 54.828125 56.984375 36.375 \r\nQ 56.984375 17.96875 50.515625 8.265625 \r\nQ 44.046875 -1.421875 31.78125 -1.421875 \r\nQ 19.53125 -1.421875 13.0625 8.265625 \r\nQ 6.59375 17.96875 6.59375 36.375 \r\nQ 6.59375 54.828125 13.0625 64.515625 \r\nQ 19.53125 74.21875 31.78125 74.21875 \r\nz\r\n\" id=\"DejaVuSans-48\"/>\r\n        <path d=\"M 12.40625 8.296875 \r\nL 28.515625 8.296875 \r\nL 28.515625 63.921875 \r\nL 10.984375 60.40625 \r\nL 10.984375 69.390625 \r\nL 28.421875 72.90625 \r\nL 38.28125 72.90625 \r\nL 38.28125 8.296875 \r\nL 54.390625 8.296875 \r\nL 54.390625 0 \r\nL 12.40625 0 \r\nz\r\n\" id=\"DejaVuSans-49\"/>\r\n        <path d=\"M 10.984375 1.515625 \r\nL 10.984375 10.5 \r\nQ 14.703125 8.734375 18.5 7.8125 \r\nQ 22.3125 6.890625 25.984375 6.890625 \r\nQ 35.75 6.890625 40.890625 13.453125 \r\nQ 46.046875 20.015625 46.78125 33.40625 \r\nQ 43.953125 29.203125 39.59375 26.953125 \r\nQ 35.25 24.703125 29.984375 24.703125 \r\nQ 19.046875 24.703125 12.671875 31.3125 \r\nQ 6.296875 37.9375 6.296875 49.421875 \r\nQ 6.296875 60.640625 12.9375 67.421875 \r\nQ 19.578125 74.21875 30.609375 74.21875 \r\nQ 43.265625 74.21875 49.921875 64.515625 \r\nQ 56.59375 54.828125 56.59375 36.375 \r\nQ 56.59375 19.140625 48.40625 8.859375 \r\nQ 40.234375 -1.421875 26.421875 -1.421875 \r\nQ 22.703125 -1.421875 18.890625 -0.6875 \r\nQ 15.09375 0.046875 10.984375 1.515625 \r\nz\r\nM 30.609375 32.421875 \r\nQ 37.25 32.421875 41.125 36.953125 \r\nQ 45.015625 41.5 45.015625 49.421875 \r\nQ 45.015625 57.28125 41.125 61.84375 \r\nQ 37.25 66.40625 30.609375 66.40625 \r\nQ 23.96875 66.40625 20.09375 61.84375 \r\nQ 16.21875 57.28125 16.21875 49.421875 \r\nQ 16.21875 41.5 20.09375 36.953125 \r\nQ 23.96875 32.421875 30.609375 32.421875 \r\nz\r\n\" id=\"DejaVuSans-57\"/>\r\n       </defs>\r\n       <use xlink:href=\"#DejaVuSans-50\"/>\r\n       <use x=\"63.623047\" xlink:href=\"#DejaVuSans-48\"/>\r\n       <use x=\"127.246094\" xlink:href=\"#DejaVuSans-49\"/>\r\n       <use x=\"190.869141\" xlink:href=\"#DejaVuSans-57\"/>\r\n      </g>\r\n     </g>\r\n    </g>\r\n    <g id=\"xtick_3\">\r\n     <g id=\"line2d_3\">\r\n      <g>\r\n       <use style=\"stroke:#000000;stroke-width:0.8;\" x=\"130.238915\" xlink:href=\"#m268a01acfc\" y=\"224.64\"/>\r\n      </g>\r\n     </g>\r\n     <g id=\"text_2\">\r\n      <!-- Apr -->\r\n      <g transform=\"translate(121.588915 239.238438)scale(0.1 -0.1)\">\r\n       <defs>\r\n        <path d=\"M 34.1875 63.1875 \r\nL 20.796875 26.90625 \r\nL 47.609375 26.90625 \r\nz\r\nM 28.609375 72.90625 \r\nL 39.796875 72.90625 \r\nL 67.578125 0 \r\nL 57.328125 0 \r\nL 50.6875 18.703125 \r\nL 17.828125 18.703125 \r\nL 11.1875 0 \r\nL 0.78125 0 \r\nz\r\n\" id=\"DejaVuSans-65\"/>\r\n        <path d=\"M 18.109375 8.203125 \r\nL 18.109375 -20.796875 \r\nL 9.078125 -20.796875 \r\nL 9.078125 54.6875 \r\nL 18.109375 54.6875 \r\nL 18.109375 46.390625 \r\nQ 20.953125 51.265625 25.265625 53.625 \r\nQ 29.59375 56 35.59375 56 \r\nQ 45.5625 56 51.78125 48.09375 \r\nQ 58.015625 40.1875 58.015625 27.296875 \r\nQ 58.015625 14.40625 51.78125 6.484375 \r\nQ 45.5625 -1.421875 35.59375 -1.421875 \r\nQ 29.59375 -1.421875 25.265625 0.953125 \r\nQ 20.953125 3.328125 18.109375 8.203125 \r\nz\r\nM 48.6875 27.296875 \r\nQ 48.6875 37.203125 44.609375 42.84375 \r\nQ 40.53125 48.484375 33.40625 48.484375 \r\nQ 26.265625 48.484375 22.1875 42.84375 \r\nQ 18.109375 37.203125 18.109375 27.296875 \r\nQ 18.109375 17.390625 22.1875 11.75 \r\nQ 26.265625 6.109375 33.40625 6.109375 \r\nQ 40.53125 6.109375 44.609375 11.75 \r\nQ 48.6875 17.390625 48.6875 27.296875 \r\nz\r\n\" id=\"DejaVuSans-112\"/>\r\n       </defs>\r\n       <use xlink:href=\"#DejaVuSans-65\"/>\r\n       <use x=\"68.408203\" xlink:href=\"#DejaVuSans-112\"/>\r\n       <use x=\"131.884766\" xlink:href=\"#DejaVuSans-114\"/>\r\n      </g>\r\n     </g>\r\n    </g>\r\n    <g id=\"xtick_4\">\r\n     <g id=\"line2d_4\">\r\n      <g>\r\n       <use style=\"stroke:#000000;stroke-width:0.8;\" x=\"193.408726\" xlink:href=\"#m268a01acfc\" y=\"224.64\"/>\r\n      </g>\r\n     </g>\r\n     <g id=\"text_3\">\r\n      <!-- May -->\r\n      <g transform=\"translate(183.071226 239.238438)scale(0.1 -0.1)\">\r\n       <defs>\r\n        <path d=\"M 32.171875 -5.078125 \r\nQ 28.375 -14.84375 24.75 -17.8125 \r\nQ 21.140625 -20.796875 15.09375 -20.796875 \r\nL 7.90625 -20.796875 \r\nL 7.90625 -13.28125 \r\nL 13.1875 -13.28125 \r\nQ 16.890625 -13.28125 18.9375 -11.515625 \r\nQ 21 -9.765625 23.484375 -3.21875 \r\nL 25.09375 0.875 \r\nL 2.984375 54.6875 \r\nL 12.5 54.6875 \r\nL 29.59375 11.921875 \r\nL 46.6875 54.6875 \r\nL 56.203125 54.6875 \r\nz\r\n\" id=\"DejaVuSans-121\"/>\r\n       </defs>\r\n       <use xlink:href=\"#DejaVuSans-77\"/>\r\n       <use x=\"86.279297\" xlink:href=\"#DejaVuSans-97\"/>\r\n       <use x=\"147.558594\" xlink:href=\"#DejaVuSans-121\"/>\r\n      </g>\r\n     </g>\r\n    </g>\r\n    <g id=\"xtick_5\">\r\n     <g id=\"line2d_5\">\r\n      <g>\r\n       <use style=\"stroke:#000000;stroke-width:0.8;\" x=\"258.684198\" xlink:href=\"#m268a01acfc\" y=\"224.64\"/>\r\n      </g>\r\n     </g>\r\n     <g id=\"text_4\">\r\n      <!-- Jun -->\r\n      <g transform=\"translate(250.871698 239.238438)scale(0.1 -0.1)\">\r\n       <defs>\r\n        <path d=\"M 9.8125 72.90625 \r\nL 19.671875 72.90625 \r\nL 19.671875 5.078125 \r\nQ 19.671875 -8.109375 14.671875 -14.0625 \r\nQ 9.671875 -20.015625 -1.421875 -20.015625 \r\nL -5.171875 -20.015625 \r\nL -5.171875 -11.71875 \r\nL -2.09375 -11.71875 \r\nQ 4.4375 -11.71875 7.125 -8.046875 \r\nQ 9.8125 -4.390625 9.8125 5.078125 \r\nz\r\n\" id=\"DejaVuSans-74\"/>\r\n        <path d=\"M 8.5 21.578125 \r\nL 8.5 54.6875 \r\nL 17.484375 54.6875 \r\nL 17.484375 21.921875 \r\nQ 17.484375 14.15625 20.5 10.265625 \r\nQ 23.53125 6.390625 29.59375 6.390625 \r\nQ 36.859375 6.390625 41.078125 11.03125 \r\nQ 45.3125 15.671875 45.3125 23.6875 \r\nL 45.3125 54.6875 \r\nL 54.296875 54.6875 \r\nL 54.296875 0 \r\nL 45.3125 0 \r\nL 45.3125 8.40625 \r\nQ 42.046875 3.421875 37.71875 1 \r\nQ 33.40625 -1.421875 27.6875 -1.421875 \r\nQ 18.265625 -1.421875 13.375 4.4375 \r\nQ 8.5 10.296875 8.5 21.578125 \r\nz\r\nM 31.109375 56 \r\nz\r\n\" id=\"DejaVuSans-117\"/>\r\n        <path d=\"M 54.890625 33.015625 \r\nL 54.890625 0 \r\nL 45.90625 0 \r\nL 45.90625 32.71875 \r\nQ 45.90625 40.484375 42.875 44.328125 \r\nQ 39.84375 48.1875 33.796875 48.1875 \r\nQ 26.515625 48.1875 22.3125 43.546875 \r\nQ 18.109375 38.921875 18.109375 30.90625 \r\nL 18.109375 0 \r\nL 9.078125 0 \r\nL 9.078125 54.6875 \r\nL 18.109375 54.6875 \r\nL 18.109375 46.1875 \r\nQ 21.34375 51.125 25.703125 53.5625 \r\nQ 30.078125 56 35.796875 56 \r\nQ 45.21875 56 50.046875 50.171875 \r\nQ 54.890625 44.34375 54.890625 33.015625 \r\nz\r\n\" id=\"DejaVuSans-110\"/>\r\n       </defs>\r\n       <use xlink:href=\"#DejaVuSans-74\"/>\r\n       <use x=\"29.492188\" xlink:href=\"#DejaVuSans-117\"/>\r\n       <use x=\"92.871094\" xlink:href=\"#DejaVuSans-110\"/>\r\n      </g>\r\n     </g>\r\n    </g>\r\n    <g id=\"xtick_6\">\r\n     <g id=\"line2d_6\">\r\n      <g>\r\n       <use style=\"stroke:#000000;stroke-width:0.8;\" x=\"321.854009\" xlink:href=\"#m268a01acfc\" y=\"224.64\"/>\r\n      </g>\r\n     </g>\r\n     <g id=\"text_5\">\r\n      <!-- Jul -->\r\n      <g transform=\"translate(315.821197 239.238438)scale(0.1 -0.1)\">\r\n       <defs>\r\n        <path d=\"M 9.421875 75.984375 \r\nL 18.40625 75.984375 \r\nL 18.40625 0 \r\nL 9.421875 0 \r\nz\r\n\" id=\"DejaVuSans-108\"/>\r\n       </defs>\r\n       <use xlink:href=\"#DejaVuSans-74\"/>\r\n       <use x=\"29.492188\" xlink:href=\"#DejaVuSans-117\"/>\r\n       <use x=\"92.871094\" xlink:href=\"#DejaVuSans-108\"/>\r\n      </g>\r\n     </g>\r\n    </g>\r\n    <g id=\"xtick_7\">\r\n     <g id=\"line2d_7\">\r\n      <g>\r\n       <use style=\"stroke:#000000;stroke-width:0.8;\" x=\"380.8125\" xlink:href=\"#m268a01acfc\" y=\"224.64\"/>\r\n      </g>\r\n     </g>\r\n    </g>\r\n    <g id=\"xtick_8\">\r\n     <g id=\"line2d_8\">\r\n      <defs>\r\n       <path d=\"M 0 0 \r\nL 0 2 \r\n\" id=\"me512de141a\" style=\"stroke:#000000;stroke-width:0.6;\"/>\r\n      </defs>\r\n      <g>\r\n       <use style=\"stroke:#000000;stroke-width:0.6;\" x=\"56.540802\" xlink:href=\"#me512de141a\" y=\"224.64\"/>\r\n      </g>\r\n     </g>\r\n    </g>\r\n    <g id=\"xtick_9\">\r\n     <g id=\"line2d_9\">\r\n      <g>\r\n       <use style=\"stroke:#000000;stroke-width:0.6;\" x=\"71.280425\" xlink:href=\"#me512de141a\" y=\"224.64\"/>\r\n      </g>\r\n     </g>\r\n    </g>\r\n    <g id=\"xtick_10\">\r\n     <g id=\"line2d_10\">\r\n      <g>\r\n       <use style=\"stroke:#000000;stroke-width:0.6;\" x=\"86.020047\" xlink:href=\"#me512de141a\" y=\"224.64\"/>\r\n      </g>\r\n     </g>\r\n    </g>\r\n    <g id=\"xtick_11\">\r\n     <g id=\"line2d_11\">\r\n      <g>\r\n       <use style=\"stroke:#000000;stroke-width:0.6;\" x=\"100.75967\" xlink:href=\"#me512de141a\" y=\"224.64\"/>\r\n      </g>\r\n     </g>\r\n    </g>\r\n    <g id=\"xtick_12\">\r\n     <g id=\"line2d_12\">\r\n      <g>\r\n       <use style=\"stroke:#000000;stroke-width:0.6;\" x=\"115.499292\" xlink:href=\"#me512de141a\" y=\"224.64\"/>\r\n      </g>\r\n     </g>\r\n    </g>\r\n    <g id=\"xtick_13\">\r\n     <g id=\"line2d_13\">\r\n      <g>\r\n       <use style=\"stroke:#000000;stroke-width:0.6;\" x=\"144.978538\" xlink:href=\"#me512de141a\" y=\"224.64\"/>\r\n      </g>\r\n     </g>\r\n    </g>\r\n    <g id=\"xtick_14\">\r\n     <g id=\"line2d_14\">\r\n      <g>\r\n       <use style=\"stroke:#000000;stroke-width:0.6;\" x=\"159.71816\" xlink:href=\"#me512de141a\" y=\"224.64\"/>\r\n      </g>\r\n     </g>\r\n    </g>\r\n    <g id=\"xtick_15\">\r\n     <g id=\"line2d_15\">\r\n      <g>\r\n       <use style=\"stroke:#000000;stroke-width:0.6;\" x=\"174.457783\" xlink:href=\"#me512de141a\" y=\"224.64\"/>\r\n      </g>\r\n     </g>\r\n    </g>\r\n    <g id=\"xtick_16\">\r\n     <g id=\"line2d_16\">\r\n      <g>\r\n       <use style=\"stroke:#000000;stroke-width:0.6;\" x=\"189.197406\" xlink:href=\"#me512de141a\" y=\"224.64\"/>\r\n      </g>\r\n     </g>\r\n    </g>\r\n    <g id=\"xtick_17\">\r\n     <g id=\"line2d_17\">\r\n      <g>\r\n       <use style=\"stroke:#000000;stroke-width:0.6;\" x=\"203.937028\" xlink:href=\"#me512de141a\" y=\"224.64\"/>\r\n      </g>\r\n     </g>\r\n    </g>\r\n    <g id=\"xtick_18\">\r\n     <g id=\"line2d_18\">\r\n      <g>\r\n       <use style=\"stroke:#000000;stroke-width:0.6;\" x=\"218.676651\" xlink:href=\"#me512de141a\" y=\"224.64\"/>\r\n      </g>\r\n     </g>\r\n    </g>\r\n    <g id=\"xtick_19\">\r\n     <g id=\"line2d_19\">\r\n      <g>\r\n       <use style=\"stroke:#000000;stroke-width:0.6;\" x=\"233.416274\" xlink:href=\"#me512de141a\" y=\"224.64\"/>\r\n      </g>\r\n     </g>\r\n    </g>\r\n    <g id=\"xtick_20\">\r\n     <g id=\"line2d_20\">\r\n      <g>\r\n       <use style=\"stroke:#000000;stroke-width:0.6;\" x=\"248.155896\" xlink:href=\"#me512de141a\" y=\"224.64\"/>\r\n      </g>\r\n     </g>\r\n    </g>\r\n    <g id=\"xtick_21\">\r\n     <g id=\"line2d_21\">\r\n      <g>\r\n       <use style=\"stroke:#000000;stroke-width:0.6;\" x=\"262.895519\" xlink:href=\"#me512de141a\" y=\"224.64\"/>\r\n      </g>\r\n     </g>\r\n    </g>\r\n    <g id=\"xtick_22\">\r\n     <g id=\"line2d_22\">\r\n      <g>\r\n       <use style=\"stroke:#000000;stroke-width:0.6;\" x=\"277.635142\" xlink:href=\"#me512de141a\" y=\"224.64\"/>\r\n      </g>\r\n     </g>\r\n    </g>\r\n    <g id=\"xtick_23\">\r\n     <g id=\"line2d_23\">\r\n      <g>\r\n       <use style=\"stroke:#000000;stroke-width:0.6;\" x=\"292.374764\" xlink:href=\"#me512de141a\" y=\"224.64\"/>\r\n      </g>\r\n     </g>\r\n    </g>\r\n    <g id=\"xtick_24\">\r\n     <g id=\"line2d_24\">\r\n      <g>\r\n       <use style=\"stroke:#000000;stroke-width:0.6;\" x=\"307.114387\" xlink:href=\"#me512de141a\" y=\"224.64\"/>\r\n      </g>\r\n     </g>\r\n    </g>\r\n    <g id=\"xtick_25\">\r\n     <g id=\"line2d_25\">\r\n      <g>\r\n       <use style=\"stroke:#000000;stroke-width:0.6;\" x=\"336.593632\" xlink:href=\"#me512de141a\" y=\"224.64\"/>\r\n      </g>\r\n     </g>\r\n    </g>\r\n    <g id=\"xtick_26\">\r\n     <g id=\"line2d_26\">\r\n      <g>\r\n       <use style=\"stroke:#000000;stroke-width:0.6;\" x=\"351.333255\" xlink:href=\"#me512de141a\" y=\"224.64\"/>\r\n      </g>\r\n     </g>\r\n    </g>\r\n    <g id=\"xtick_27\">\r\n     <g id=\"line2d_27\">\r\n      <g>\r\n       <use style=\"stroke:#000000;stroke-width:0.6;\" x=\"366.072877\" xlink:href=\"#me512de141a\" y=\"224.64\"/>\r\n      </g>\r\n     </g>\r\n    </g>\r\n   </g>\r\n   <g id=\"matplotlib.axis_2\">\r\n    <g id=\"ytick_1\">\r\n     <g id=\"line2d_28\">\r\n      <defs>\r\n       <path d=\"M 0 0 \r\nL -3.5 0 \r\n\" id=\"mdc16eb8e84\" style=\"stroke:#000000;stroke-width:0.8;\"/>\r\n      </defs>\r\n      <g>\r\n       <use style=\"stroke:#000000;stroke-width:0.8;\" x=\"46.0125\" xlink:href=\"#mdc16eb8e84\" y=\"208.971283\"/>\r\n      </g>\r\n     </g>\r\n     <g id=\"text_6\">\r\n      <!-- 4000 -->\r\n      <g transform=\"translate(13.5625 212.770502)scale(0.1 -0.1)\">\r\n       <defs>\r\n        <path d=\"M 37.796875 64.3125 \r\nL 12.890625 25.390625 \r\nL 37.796875 25.390625 \r\nz\r\nM 35.203125 72.90625 \r\nL 47.609375 72.90625 \r\nL 47.609375 25.390625 \r\nL 58.015625 25.390625 \r\nL 58.015625 17.1875 \r\nL 47.609375 17.1875 \r\nL 47.609375 0 \r\nL 37.796875 0 \r\nL 37.796875 17.1875 \r\nL 4.890625 17.1875 \r\nL 4.890625 26.703125 \r\nz\r\n\" id=\"DejaVuSans-52\"/>\r\n       </defs>\r\n       <use xlink:href=\"#DejaVuSans-52\"/>\r\n       <use x=\"63.623047\" xlink:href=\"#DejaVuSans-48\"/>\r\n       <use x=\"127.246094\" xlink:href=\"#DejaVuSans-48\"/>\r\n       <use x=\"190.869141\" xlink:href=\"#DejaVuSans-48\"/>\r\n      </g>\r\n     </g>\r\n    </g>\r\n    <g id=\"ytick_2\">\r\n     <g id=\"line2d_29\">\r\n      <g>\r\n       <use style=\"stroke:#000000;stroke-width:0.8;\" x=\"46.0125\" xlink:href=\"#mdc16eb8e84\" y=\"165.914711\"/>\r\n      </g>\r\n     </g>\r\n     <g id=\"text_7\">\r\n      <!-- 6000 -->\r\n      <g transform=\"translate(13.5625 169.71393)scale(0.1 -0.1)\">\r\n       <defs>\r\n        <path d=\"M 33.015625 40.375 \r\nQ 26.375 40.375 22.484375 35.828125 \r\nQ 18.609375 31.296875 18.609375 23.390625 \r\nQ 18.609375 15.53125 22.484375 10.953125 \r\nQ 26.375 6.390625 33.015625 6.390625 \r\nQ 39.65625 6.390625 43.53125 10.953125 \r\nQ 47.40625 15.53125 47.40625 23.390625 \r\nQ 47.40625 31.296875 43.53125 35.828125 \r\nQ 39.65625 40.375 33.015625 40.375 \r\nz\r\nM 52.59375 71.296875 \r\nL 52.59375 62.3125 \r\nQ 48.875 64.0625 45.09375 64.984375 \r\nQ 41.3125 65.921875 37.59375 65.921875 \r\nQ 27.828125 65.921875 22.671875 59.328125 \r\nQ 17.53125 52.734375 16.796875 39.40625 \r\nQ 19.671875 43.65625 24.015625 45.921875 \r\nQ 28.375 48.1875 33.59375 48.1875 \r\nQ 44.578125 48.1875 50.953125 41.515625 \r\nQ 57.328125 34.859375 57.328125 23.390625 \r\nQ 57.328125 12.15625 50.6875 5.359375 \r\nQ 44.046875 -1.421875 33.015625 -1.421875 \r\nQ 20.359375 -1.421875 13.671875 8.265625 \r\nQ 6.984375 17.96875 6.984375 36.375 \r\nQ 6.984375 53.65625 15.1875 63.9375 \r\nQ 23.390625 74.21875 37.203125 74.21875 \r\nQ 40.921875 74.21875 44.703125 73.484375 \r\nQ 48.484375 72.75 52.59375 71.296875 \r\nz\r\n\" id=\"DejaVuSans-54\"/>\r\n       </defs>\r\n       <use xlink:href=\"#DejaVuSans-54\"/>\r\n       <use x=\"63.623047\" xlink:href=\"#DejaVuSans-48\"/>\r\n       <use x=\"127.246094\" xlink:href=\"#DejaVuSans-48\"/>\r\n       <use x=\"190.869141\" xlink:href=\"#DejaVuSans-48\"/>\r\n      </g>\r\n     </g>\r\n    </g>\r\n    <g id=\"ytick_3\">\r\n     <g id=\"line2d_30\">\r\n      <g>\r\n       <use style=\"stroke:#000000;stroke-width:0.8;\" x=\"46.0125\" xlink:href=\"#mdc16eb8e84\" y=\"122.858139\"/>\r\n      </g>\r\n     </g>\r\n     <g id=\"text_8\">\r\n      <!-- 8000 -->\r\n      <g transform=\"translate(13.5625 126.657358)scale(0.1 -0.1)\">\r\n       <defs>\r\n        <path d=\"M 31.78125 34.625 \r\nQ 24.75 34.625 20.71875 30.859375 \r\nQ 16.703125 27.09375 16.703125 20.515625 \r\nQ 16.703125 13.921875 20.71875 10.15625 \r\nQ 24.75 6.390625 31.78125 6.390625 \r\nQ 38.8125 6.390625 42.859375 10.171875 \r\nQ 46.921875 13.96875 46.921875 20.515625 \r\nQ 46.921875 27.09375 42.890625 30.859375 \r\nQ 38.875 34.625 31.78125 34.625 \r\nz\r\nM 21.921875 38.8125 \r\nQ 15.578125 40.375 12.03125 44.71875 \r\nQ 8.5 49.078125 8.5 55.328125 \r\nQ 8.5 64.0625 14.71875 69.140625 \r\nQ 20.953125 74.21875 31.78125 74.21875 \r\nQ 42.671875 74.21875 48.875 69.140625 \r\nQ 55.078125 64.0625 55.078125 55.328125 \r\nQ 55.078125 49.078125 51.53125 44.71875 \r\nQ 48 40.375 41.703125 38.8125 \r\nQ 48.828125 37.15625 52.796875 32.3125 \r\nQ 56.78125 27.484375 56.78125 20.515625 \r\nQ 56.78125 9.90625 50.3125 4.234375 \r\nQ 43.84375 -1.421875 31.78125 -1.421875 \r\nQ 19.734375 -1.421875 13.25 4.234375 \r\nQ 6.78125 9.90625 6.78125 20.515625 \r\nQ 6.78125 27.484375 10.78125 32.3125 \r\nQ 14.796875 37.15625 21.921875 38.8125 \r\nz\r\nM 18.3125 54.390625 \r\nQ 18.3125 48.734375 21.84375 45.5625 \r\nQ 25.390625 42.390625 31.78125 42.390625 \r\nQ 38.140625 42.390625 41.71875 45.5625 \r\nQ 45.3125 48.734375 45.3125 54.390625 \r\nQ 45.3125 60.0625 41.71875 63.234375 \r\nQ 38.140625 66.40625 31.78125 66.40625 \r\nQ 25.390625 66.40625 21.84375 63.234375 \r\nQ 18.3125 60.0625 18.3125 54.390625 \r\nz\r\n\" id=\"DejaVuSans-56\"/>\r\n       </defs>\r\n       <use xlink:href=\"#DejaVuSans-56\"/>\r\n       <use x=\"63.623047\" xlink:href=\"#DejaVuSans-48\"/>\r\n       <use x=\"127.246094\" xlink:href=\"#DejaVuSans-48\"/>\r\n       <use x=\"190.869141\" xlink:href=\"#DejaVuSans-48\"/>\r\n      </g>\r\n     </g>\r\n    </g>\r\n    <g id=\"ytick_4\">\r\n     <g id=\"line2d_31\">\r\n      <g>\r\n       <use style=\"stroke:#000000;stroke-width:0.8;\" x=\"46.0125\" xlink:href=\"#mdc16eb8e84\" y=\"79.801567\"/>\r\n      </g>\r\n     </g>\r\n     <g id=\"text_9\">\r\n      <!-- 10000 -->\r\n      <g transform=\"translate(7.2 83.600786)scale(0.1 -0.1)\">\r\n       <use xlink:href=\"#DejaVuSans-49\"/>\r\n       <use x=\"63.623047\" xlink:href=\"#DejaVuSans-48\"/>\r\n       <use x=\"127.246094\" xlink:href=\"#DejaVuSans-48\"/>\r\n       <use x=\"190.869141\" xlink:href=\"#DejaVuSans-48\"/>\r\n       <use x=\"254.492188\" xlink:href=\"#DejaVuSans-48\"/>\r\n      </g>\r\n     </g>\r\n    </g>\r\n    <g id=\"ytick_5\">\r\n     <g id=\"line2d_32\">\r\n      <g>\r\n       <use style=\"stroke:#000000;stroke-width:0.8;\" x=\"46.0125\" xlink:href=\"#mdc16eb8e84\" y=\"36.744995\"/>\r\n      </g>\r\n     </g>\r\n     <g id=\"text_10\">\r\n      <!-- 12000 -->\r\n      <g transform=\"translate(7.2 40.544214)scale(0.1 -0.1)\">\r\n       <use xlink:href=\"#DejaVuSans-49\"/>\r\n       <use x=\"63.623047\" xlink:href=\"#DejaVuSans-50\"/>\r\n       <use x=\"127.246094\" xlink:href=\"#DejaVuSans-48\"/>\r\n       <use x=\"190.869141\" xlink:href=\"#DejaVuSans-48\"/>\r\n       <use x=\"254.492188\" xlink:href=\"#DejaVuSans-48\"/>\r\n      </g>\r\n     </g>\r\n    </g>\r\n   </g>\r\n   <g id=\"line2d_33\">\r\n    <path clip-path=\"url(#p7714aef318)\" d=\"M 46.0125 210.602266 \r\nL 48.11816 209.529941 \r\nL 50.223821 210.326703 \r\nL 52.329481 209.325853 \r\nL 54.435142 205.761634 \r\nL 56.540802 213.887911 \r\nL 58.646462 212.297188 \r\nL 60.752123 212.892017 \r\nL 62.857783 212.615592 \r\nL 64.963443 212.773822 \r\nL 69.174764 212.352517 \r\nL 71.280425 213.011926 \r\nL 73.386085 214.756364 \r\nL 75.491745 211.679974 \r\nL 77.597406 211.66275 \r\nL 79.703066 211.498486 \r\nL 81.808726 211.812586 \r\nL 83.914387 210.096352 \r\nL 86.020047 210.481706 \r\nL 88.125708 211.664689 \r\nL 90.231368 211.370179 \r\nL 92.337028 211.588263 \r\nL 94.442689 211.523678 \r\nL 96.548349 210.541124 \r\nL 98.654009 208.389804 \r\nL 100.75967 209.01434 \r\nL 102.86533 209.211322 \r\nL 107.076651 207.749553 \r\nL 109.182311 209.037377 \r\nL 113.393632 208.816065 \r\nL 115.499292 209.098083 \r\nL 117.604953 210.595591 \r\nL 119.710613 210.215188 \r\nL 121.816274 207.981413 \r\nL 123.921934 208.186578 \r\nL 126.027594 206.573465 \r\nL 128.133255 206.428149 \r\nL 130.238915 206.545262 \r\nL 132.344575 205.713627 \r\nL 134.450236 189.446631 \r\nL 136.555896 187.946978 \r\nL 138.661557 189.308211 \r\nL 140.767217 186.426217 \r\nL 142.872877 186.210503 \r\nL 144.978538 183.112364 \r\nL 147.084198 181.111747 \r\nL 149.189858 183.109357 \r\nL 151.295519 180.584083 \r\nL 153.401179 186.397582 \r\nL 155.50684 185.688442 \r\nL 157.6125 185.706522 \r\nL 159.71816 183.878132 \r\nL 161.823821 186.640638 \r\nL 163.929481 182.861561 \r\nL 166.035142 182.356729 \r\nL 168.140802 181.205176 \r\nL 170.246462 181.080748 \r\nL 172.352123 180.420897 \r\nL 174.457783 180.860934 \r\nL 176.563443 178.94643 \r\nL 178.669104 175.837096 \r\nL 180.774764 177.656667 \r\nL 182.880425 183.940993 \r\nL 184.986085 182.403444 \r\nL 187.091745 182.502687 \r\nL 189.197406 181.577612 \r\nL 191.303066 182.320127 \r\nL 193.408726 179.894316 \r\nL 195.514387 179.056868 \r\nL 197.620047 176.663349 \r\nL 199.725708 171.22402 \r\nL 201.831368 169.357513 \r\nL 206.042689 171.336181 \r\nL 208.148349 169.799064 \r\nL 214.46533 158.201341 \r\nL 216.570991 140.266775 \r\nL 218.676651 144.868016 \r\nL 220.782311 127.02688 \r\nL 222.887972 123.285909 \r\nL 224.993632 118.900593 \r\nL 227.099292 125.568338 \r\nL 229.204953 136.378765 \r\nL 231.310613 138.658177 \r\nL 233.416274 118.700174 \r\nL 235.521934 122.894952 \r\nL 237.627594 123.979113 \r\nL 239.733255 130.890555 \r\nL 241.838915 125.516883 \r\nL 243.944575 122.935643 \r\nL 246.050236 121.585174 \r\nL 248.155896 107.223642 \r\nL 250.261557 105.954777 \r\nL 252.367217 107.382539 \r\nL 254.472877 108.551311 \r\nL 256.578538 116.91095 \r\nL 258.684198 111.00316 \r\nL 260.789858 110.891208 \r\nL 262.895519 106.972198 \r\nL 265.001179 120.393361 \r\nL 267.10684 129.801653 \r\nL 269.2125 127.351307 \r\nL 271.31816 127.005351 \r\nL 273.423821 122.801522 \r\nL 275.529481 124.283747 \r\nL 277.635142 130.534266 \r\nL 279.740802 122.406045 \r\nL 281.846462 124.638102 \r\nL 283.952123 119.109201 \r\nL 286.057783 117.786714 \r\nL 288.163443 107.918371 \r\nL 290.269104 104.482465 \r\nL 292.374764 101.778079 \r\nL 294.480425 94.096139 \r\nL 296.586085 99.570778 \r\nL 298.691745 95.290307 \r\nL 300.797406 89.772401 \r\nL 302.903066 75.089669 \r\nL 305.008726 64.956952 \r\nL 307.114387 61.373565 \r\nL 309.220047 57.503855 \r\nL 311.325708 42.335033 \r\nL 313.431368 17.083636 \r\nL 315.537028 54.955991 \r\nL 317.642689 29.101171 \r\nL 319.748349 39.240132 \r\nL 321.854009 63.245243 \r\nL 323.95967 67.059618 \r\nL 326.06533 61.628898 \r\nL 328.170991 37.140893 \r\nL 330.276651 54.903684 \r\nL 332.382311 58.418597 \r\nL 334.487972 52.91402 \r\nL 336.593632 48.06284 \r\nL 338.699292 30.369175 \r\nL 340.804953 24.538037 \r\nL 342.910613 34.611109 \r\nL 345.016274 50.886493 \r\nL 347.121934 41.107269 \r\nL 349.227594 50.437637 \r\nL 351.333255 75.400967 \r\nL 353.438915 61.496932 \r\nL 355.544575 92.213907 \r\nL 357.650236 86.342929 \r\nL 359.755896 66.058994 \r\nL 361.861557 68.328273 \r\nL 363.967217 63.452558 \r\nL 366.072877 67.170707 \r\nL 368.178538 72.786142 \r\nL 370.284198 82.941459 \r\nL 372.389858 84.70701 \r\nL 374.495519 82.332655 \r\nL 376.601179 83.085703 \r\nL 378.70684 91.032437 \r\nL 380.8125 89.881767 \r\nL 380.8125 89.881767 \r\n\" style=\"fill:none;stroke:#1f77b4;stroke-linecap:square;stroke-width:1.5;\"/>\r\n   </g>\r\n   <g id=\"line2d_34\">\r\n    <path clip-path=\"url(#p7714aef318)\" d=\"M 46.0125 186.605623 \r\nL 48.11816 186.075173 \r\nL 50.223821 185.734042 \r\nL 52.329481 184.6628 \r\nL 54.435142 184.099532 \r\nL 56.540802 183.371345 \r\nL 62.857783 179.673967 \r\nL 64.963443 178.53611 \r\nL 67.069104 179.417383 \r\nL 69.174764 180.665224 \r\nL 73.386085 182.820923 \r\nL 75.491745 184.206144 \r\nL 77.597406 185.819588 \r\nL 79.703066 187.837234 \r\nL 81.808726 188.231218 \r\nL 83.914387 187.986944 \r\nL 86.020047 187.492855 \r\nL 90.231368 186.193453 \r\nL 94.442689 184.630833 \r\nL 98.654009 181.912509 \r\nL 100.75967 181.014607 \r\nL 102.86533 181.069721 \r\nL 109.182311 180.883976 \r\nL 113.393632 180.803213 \r\nL 115.499292 180.640217 \r\nL 117.604953 180.656804 \r\nL 121.816274 181.052649 \r\nL 128.133255 182.974711 \r\nL 130.238915 183.492494 \r\nL 132.344575 184.373713 \r\nL 134.450236 184.662684 \r\nL 136.555896 184.364095 \r\nL 140.767217 182.471151 \r\nL 144.978538 179.957713 \r\nL 149.189858 177.978751 \r\nL 153.401179 176.862391 \r\nL 157.6125 176.551703 \r\nL 159.71816 177.272753 \r\nL 163.929481 177.536002 \r\nL 166.035142 178.16418 \r\nL 168.140802 179.090947 \r\nL 170.246462 179.684951 \r\nL 172.352123 180.132841 \r\nL 176.563443 180.68547 \r\nL 178.669104 179.388128 \r\nL 180.774764 179.388906 \r\nL 182.880425 178.560614 \r\nL 184.986085 178.344858 \r\nL 187.091745 177.603667 \r\nL 189.197406 177.871866 \r\nL 193.408726 179.4235 \r\nL 197.620047 181.690635 \r\nL 199.725708 182.822562 \r\nL 201.831368 184.292888 \r\nL 203.937028 185.295383 \r\nL 206.042689 185.514197 \r\nL 208.148349 184.374649 \r\nL 210.254009 183.104522 \r\nL 216.570991 178.402946 \r\nL 218.676651 177.260896 \r\nL 220.782311 175.929317 \r\nL 227.099292 174.319562 \r\nL 229.204953 173.01544 \r\nL 231.310613 172.58191 \r\nL 233.416274 171.823847 \r\nL 235.521934 171.579447 \r\nL 237.627594 171.537967 \r\nL 241.838915 172.262812 \r\nL 250.261557 174.756845 \r\nL 252.367217 174.581486 \r\nL 254.472877 174.524291 \r\nL 256.578538 174.637809 \r\nL 258.684198 174.89454 \r\nL 260.789858 174.81629 \r\nL 262.895519 174.865517 \r\nL 267.10684 174.562386 \r\nL 269.2125 174.970351 \r\nL 271.31816 175.640987 \r\nL 273.423821 176.946202 \r\nL 277.635142 180.714031 \r\nL 279.740802 182.73092 \r\nL 283.952123 184.848629 \r\nL 288.163443 186.464448 \r\nL 290.269104 185.347669 \r\nL 292.374764 182.962149 \r\nL 294.480425 180.779309 \r\nL 296.586085 177.851557 \r\nL 298.691745 177.069843 \r\nL 300.797406 176.042277 \r\nL 302.903066 173.747791 \r\nL 305.008726 172.368088 \r\nL 307.114387 170.835354 \r\nL 309.220047 169.461023 \r\nL 311.325708 168.366318 \r\nL 313.431368 167.810199 \r\nL 315.537028 167.513302 \r\nL 321.854009 167.202761 \r\nL 323.95967 167.198398 \r\nL 326.06533 167.589997 \r\nL 328.170991 168.141407 \r\nL 330.276651 168.886035 \r\nL 332.382311 169.4168 \r\nL 334.487972 170.506995 \r\nL 336.593632 172.169908 \r\nL 338.699292 173.627272 \r\nL 340.804953 172.997738 \r\nL 342.910613 173.117941 \r\nL 345.016274 173.369564 \r\nL 347.121934 172.712678 \r\nL 349.227594 172.226147 \r\nL 353.438915 173.90878 \r\nL 355.544575 174.57171 \r\nL 357.650236 176.054166 \r\nL 359.755896 177.722293 \r\nL 361.861557 180.227058 \r\nL 366.072877 186.876808 \r\nL 368.178538 188.69189 \r\nL 370.284198 188.489453 \r\nL 372.389858 190.352585 \r\nL 374.495519 191.943902 \r\nL 376.601179 190.552027 \r\nL 378.70684 190.456232 \r\nL 380.8125 189.364702 \r\nL 380.8125 189.364702 \r\n\" style=\"fill:none;stroke:#ff7f0e;stroke-linecap:square;stroke-width:1.5;\"/>\r\n   </g>\r\n   <g id=\"patch_3\">\r\n    <path d=\"M 46.0125 224.64 \r\nL 46.0125 7.2 \r\n\" style=\"fill:none;stroke:#000000;stroke-linecap:square;stroke-linejoin:miter;stroke-width:0.8;\"/>\r\n   </g>\r\n   <g id=\"patch_4\">\r\n    <path d=\"M 380.8125 224.64 \r\nL 380.8125 7.2 \r\n\" style=\"fill:none;stroke:#000000;stroke-linecap:square;stroke-linejoin:miter;stroke-width:0.8;\"/>\r\n   </g>\r\n   <g id=\"patch_5\">\r\n    <path d=\"M 46.0125 224.64 \r\nL 380.8125 224.64 \r\n\" style=\"fill:none;stroke:#000000;stroke-linecap:square;stroke-linejoin:miter;stroke-width:0.8;\"/>\r\n   </g>\r\n   <g id=\"patch_6\">\r\n    <path d=\"M 46.0125 7.2 \r\nL 380.8125 7.2 \r\n\" style=\"fill:none;stroke:#000000;stroke-linecap:square;stroke-linejoin:miter;stroke-width:0.8;\"/>\r\n   </g>\r\n   <g id=\"legend_1\">\r\n    <g id=\"patch_7\">\r\n     <path d=\"M 53.0125 44.55625 \r\nL 131.953125 44.55625 \r\nQ 133.953125 44.55625 133.953125 42.55625 \r\nL 133.953125 14.2 \r\nQ 133.953125 12.2 131.953125 12.2 \r\nL 53.0125 12.2 \r\nQ 51.0125 12.2 51.0125 14.2 \r\nL 51.0125 42.55625 \r\nQ 51.0125 44.55625 53.0125 44.55625 \r\nz\r\n\" style=\"fill:#ffffff;opacity:0.8;stroke:#cccccc;stroke-linejoin:miter;\"/>\r\n    </g>\r\n    <g id=\"line2d_35\">\r\n     <path d=\"M 55.0125 20.298437 \r\nL 75.0125 20.298437 \r\n\" style=\"fill:none;stroke:#1f77b4;stroke-linecap:square;stroke-width:1.5;\"/>\r\n    </g>\r\n    <g id=\"line2d_36\"/>\r\n    <g id=\"text_11\">\r\n     <!-- Real -->\r\n     <g transform=\"translate(83.0125 23.798437)scale(0.1 -0.1)\">\r\n      <defs>\r\n       <path d=\"M 44.390625 34.1875 \r\nQ 47.5625 33.109375 50.5625 29.59375 \r\nQ 53.5625 26.078125 56.59375 19.921875 \r\nL 66.609375 0 \r\nL 56 0 \r\nL 46.6875 18.703125 \r\nQ 43.0625 26.03125 39.671875 28.421875 \r\nQ 36.28125 30.8125 30.421875 30.8125 \r\nL 19.671875 30.8125 \r\nL 19.671875 0 \r\nL 9.8125 0 \r\nL 9.8125 72.90625 \r\nL 32.078125 72.90625 \r\nQ 44.578125 72.90625 50.734375 67.671875 \r\nQ 56.890625 62.453125 56.890625 51.90625 \r\nQ 56.890625 45.015625 53.6875 40.46875 \r\nQ 50.484375 35.9375 44.390625 34.1875 \r\nz\r\nM 19.671875 64.796875 \r\nL 19.671875 38.921875 \r\nL 32.078125 38.921875 \r\nQ 39.203125 38.921875 42.84375 42.21875 \r\nQ 46.484375 45.515625 46.484375 51.90625 \r\nQ 46.484375 58.296875 42.84375 61.546875 \r\nQ 39.203125 64.796875 32.078125 64.796875 \r\nz\r\n\" id=\"DejaVuSans-82\"/>\r\n       <path d=\"M 56.203125 29.59375 \r\nL 56.203125 25.203125 \r\nL 14.890625 25.203125 \r\nQ 15.484375 15.921875 20.484375 11.0625 \r\nQ 25.484375 6.203125 34.421875 6.203125 \r\nQ 39.59375 6.203125 44.453125 7.46875 \r\nQ 49.3125 8.734375 54.109375 11.28125 \r\nL 54.109375 2.78125 \r\nQ 49.265625 0.734375 44.1875 -0.34375 \r\nQ 39.109375 -1.421875 33.890625 -1.421875 \r\nQ 20.796875 -1.421875 13.15625 6.1875 \r\nQ 5.515625 13.8125 5.515625 26.8125 \r\nQ 5.515625 40.234375 12.765625 48.109375 \r\nQ 20.015625 56 32.328125 56 \r\nQ 43.359375 56 49.78125 48.890625 \r\nQ 56.203125 41.796875 56.203125 29.59375 \r\nz\r\nM 47.21875 32.234375 \r\nQ 47.125 39.59375 43.09375 43.984375 \r\nQ 39.0625 48.390625 32.421875 48.390625 \r\nQ 24.90625 48.390625 20.390625 44.140625 \r\nQ 15.875 39.890625 15.1875 32.171875 \r\nz\r\n\" id=\"DejaVuSans-101\"/>\r\n      </defs>\r\n      <use xlink:href=\"#DejaVuSans-82\"/>\r\n      <use x=\"64.982422\" xlink:href=\"#DejaVuSans-101\"/>\r\n      <use x=\"126.505859\" xlink:href=\"#DejaVuSans-97\"/>\r\n      <use x=\"187.785156\" xlink:href=\"#DejaVuSans-108\"/>\r\n     </g>\r\n    </g>\r\n    <g id=\"line2d_37\">\r\n     <path d=\"M 55.0125 34.976562 \r\nL 75.0125 34.976562 \r\n\" style=\"fill:none;stroke:#ff7f0e;stroke-linecap:square;stroke-width:1.5;\"/>\r\n    </g>\r\n    <g id=\"line2d_38\"/>\r\n    <g id=\"text_12\">\r\n     <!-- Predicted -->\r\n     <g transform=\"translate(83.0125 38.476562)scale(0.1 -0.1)\">\r\n      <defs>\r\n       <path d=\"M 19.671875 64.796875 \r\nL 19.671875 37.40625 \r\nL 32.078125 37.40625 \r\nQ 38.96875 37.40625 42.71875 40.96875 \r\nQ 46.484375 44.53125 46.484375 51.125 \r\nQ 46.484375 57.671875 42.71875 61.234375 \r\nQ 38.96875 64.796875 32.078125 64.796875 \r\nz\r\nM 9.8125 72.90625 \r\nL 32.078125 72.90625 \r\nQ 44.34375 72.90625 50.609375 67.359375 \r\nQ 56.890625 61.8125 56.890625 51.125 \r\nQ 56.890625 40.328125 50.609375 34.8125 \r\nQ 44.34375 29.296875 32.078125 29.296875 \r\nL 19.671875 29.296875 \r\nL 19.671875 0 \r\nL 9.8125 0 \r\nz\r\n\" id=\"DejaVuSans-80\"/>\r\n       <path d=\"M 45.40625 46.390625 \r\nL 45.40625 75.984375 \r\nL 54.390625 75.984375 \r\nL 54.390625 0 \r\nL 45.40625 0 \r\nL 45.40625 8.203125 \r\nQ 42.578125 3.328125 38.25 0.953125 \r\nQ 33.9375 -1.421875 27.875 -1.421875 \r\nQ 17.96875 -1.421875 11.734375 6.484375 \r\nQ 5.515625 14.40625 5.515625 27.296875 \r\nQ 5.515625 40.1875 11.734375 48.09375 \r\nQ 17.96875 56 27.875 56 \r\nQ 33.9375 56 38.25 53.625 \r\nQ 42.578125 51.265625 45.40625 46.390625 \r\nz\r\nM 14.796875 27.296875 \r\nQ 14.796875 17.390625 18.875 11.75 \r\nQ 22.953125 6.109375 30.078125 6.109375 \r\nQ 37.203125 6.109375 41.296875 11.75 \r\nQ 45.40625 17.390625 45.40625 27.296875 \r\nQ 45.40625 37.203125 41.296875 42.84375 \r\nQ 37.203125 48.484375 30.078125 48.484375 \r\nQ 22.953125 48.484375 18.875 42.84375 \r\nQ 14.796875 37.203125 14.796875 27.296875 \r\nz\r\n\" id=\"DejaVuSans-100\"/>\r\n       <path d=\"M 9.421875 54.6875 \r\nL 18.40625 54.6875 \r\nL 18.40625 0 \r\nL 9.421875 0 \r\nz\r\nM 9.421875 75.984375 \r\nL 18.40625 75.984375 \r\nL 18.40625 64.59375 \r\nL 9.421875 64.59375 \r\nz\r\n\" id=\"DejaVuSans-105\"/>\r\n       <path d=\"M 48.78125 52.59375 \r\nL 48.78125 44.1875 \r\nQ 44.96875 46.296875 41.140625 47.34375 \r\nQ 37.3125 48.390625 33.40625 48.390625 \r\nQ 24.65625 48.390625 19.8125 42.84375 \r\nQ 14.984375 37.3125 14.984375 27.296875 \r\nQ 14.984375 17.28125 19.8125 11.734375 \r\nQ 24.65625 6.203125 33.40625 6.203125 \r\nQ 37.3125 6.203125 41.140625 7.25 \r\nQ 44.96875 8.296875 48.78125 10.40625 \r\nL 48.78125 2.09375 \r\nQ 45.015625 0.34375 40.984375 -0.53125 \r\nQ 36.96875 -1.421875 32.421875 -1.421875 \r\nQ 20.0625 -1.421875 12.78125 6.34375 \r\nQ 5.515625 14.109375 5.515625 27.296875 \r\nQ 5.515625 40.671875 12.859375 48.328125 \r\nQ 20.21875 56 33.015625 56 \r\nQ 37.15625 56 41.109375 55.140625 \r\nQ 45.0625 54.296875 48.78125 52.59375 \r\nz\r\n\" id=\"DejaVuSans-99\"/>\r\n       <path d=\"M 18.3125 70.21875 \r\nL 18.3125 54.6875 \r\nL 36.8125 54.6875 \r\nL 36.8125 47.703125 \r\nL 18.3125 47.703125 \r\nL 18.3125 18.015625 \r\nQ 18.3125 11.328125 20.140625 9.421875 \r\nQ 21.96875 7.515625 27.59375 7.515625 \r\nL 36.8125 7.515625 \r\nL 36.8125 0 \r\nL 27.59375 0 \r\nQ 17.1875 0 13.234375 3.875 \r\nQ 9.28125 7.765625 9.28125 18.015625 \r\nL 9.28125 47.703125 \r\nL 2.6875 47.703125 \r\nL 2.6875 54.6875 \r\nL 9.28125 54.6875 \r\nL 9.28125 70.21875 \r\nz\r\n\" id=\"DejaVuSans-116\"/>\r\n      </defs>\r\n      <use xlink:href=\"#DejaVuSans-80\"/>\r\n      <use x=\"58.552734\" xlink:href=\"#DejaVuSans-114\"/>\r\n      <use x=\"97.416016\" xlink:href=\"#DejaVuSans-101\"/>\r\n      <use x=\"158.939453\" xlink:href=\"#DejaVuSans-100\"/>\r\n      <use x=\"222.416016\" xlink:href=\"#DejaVuSans-105\"/>\r\n      <use x=\"250.199219\" xlink:href=\"#DejaVuSans-99\"/>\r\n      <use x=\"305.179688\" xlink:href=\"#DejaVuSans-116\"/>\r\n      <use x=\"344.388672\" xlink:href=\"#DejaVuSans-101\"/>\r\n      <use x=\"405.912109\" xlink:href=\"#DejaVuSans-100\"/>\r\n     </g>\r\n    </g>\r\n   </g>\r\n  </g>\r\n </g>\r\n <defs>\r\n  <clipPath id=\"p7714aef318\">\r\n   <rect height=\"217.44\" width=\"334.8\" x=\"46.0125\" y=\"7.2\"/>\r\n  </clipPath>\r\n </defs>\r\n</svg>\r\n",
      "image/png": "[encoded data removed]"
     },
     "metadata": {
      "needs_background": "light"
     }
    }
   ],
   "source": [
    "# Plot the real vs predicted values as a line chart\n",
    "# YOUR CODE HERE!\n",
    "stocks.plot()\n"
   ]
  },
  {
   "cell_type": "code",
   "execution_count": null,
   "metadata": {},
   "outputs": [],
   "source": []
  }
 ],
 "metadata": {
  "file_extension": ".py",
  "kernelspec": {
   "display_name": "Python 3",
   "language": "python",
   "name": "python3"
  },
  "language_info": {
   "codemirror_mode": {
    "name": "ipython",
    "version": 3
   },
   "file_extension": ".py",
   "mimetype": "text/x-python",
   "name": "python",
   "nbconvert_exporter": "python",
   "pygments_lexer": "ipython3",
   "version": "3.8.5-final"
  },
  "mimetype": "text/x-python",
  "name": "python",
  "npconvert_exporter": "python",
  "pygments_lexer": "ipython3",
  "version": 3
 },
 "nbformat": 4,
 "nbformat_minor": 4
}